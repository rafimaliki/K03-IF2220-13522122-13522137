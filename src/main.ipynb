{
 "cells": [
  {
   "cell_type": "code",
   "execution_count": 11,
   "metadata": {},
   "outputs": [
    {
     "name": "stdout",
     "output_type": "stream",
     "text": [
      "   Unnamed: 0  Temperature   Humidity  Precipitation  Wind_Speed  \\\n",
      "0           0    26.308998  71.457157       7.509076   10.923478   \n",
      "1           1    23.032419  69.672088       4.220767   14.982321   \n",
      "2           2    20.742818  86.053687       9.199037    9.396453   \n",
      "3           3    28.553441  74.641928      13.268281   25.542511   \n",
      "4           4    27.235507  62.400464      17.202971   13.997597   \n",
      "\n",
      "   Cloud_Coverage Weather_Type Wind_Direction     Pressure  UV_Index  \\\n",
      "0       64.494316        Rainy           West  1093.875521  5.902521   \n",
      "1       54.383351        Sunny           East   965.291716  9.047888   \n",
      "2       66.051994        Sunny           East   905.728473  1.423866   \n",
      "3       57.928168        Sunny           West   980.591057  5.918923   \n",
      "4       39.379039        Sunny          South   913.286310  3.834512   \n",
      "\n",
      "   Air_Quality  Visibility  \n",
      "0    72.925943   18.509121  \n",
      "1    64.649823   19.693711  \n",
      "2    60.461165   11.382937  \n",
      "3    73.977161   11.362726  \n",
      "4    89.462981    9.390819  \n"
     ]
    }
   ],
   "source": [
    "import pandas as pd # type: ignore\n",
    "\n",
    "# Load dataset\n",
    "weather = pd.read_csv('../dataset/weather.csv')\n",
    "\n",
    "# Print\n",
    "print(weather.head())"
   ]
  }
 ],
 "metadata": {
  "kernelspec": {
   "display_name": "venv",
   "language": "python",
   "name": "python3"
  },
  "language_info": {
   "codemirror_mode": {
    "name": "ipython",
    "version": 3
   },
   "file_extension": ".py",
   "mimetype": "text/x-python",
   "name": "python",
   "nbconvert_exporter": "python",
   "pygments_lexer": "ipython3",
   "version": "3.12.2"
  }
 },
 "nbformat": 4,
 "nbformat_minor": 2
}
